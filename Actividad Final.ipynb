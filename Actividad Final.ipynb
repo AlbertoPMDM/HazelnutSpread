{
 "cells": [
  {
   "cell_type": "markdown",
   "metadata": {},
   "source": [
    "# Actividad Final\n",
    "\n",
    "Teniendo todo el código del proyecto final, en teoría solo se tiene que remplazar f, extraer unos campos a variables, y todo saldría igual.\n",
    "\n",
    "Ya en el proyectó se demuestra y explica a detalle el procedimiento, y por qué sirve, por lo que ponerlo aquí sería copy paste. \n",
    "\n",
    "Viene en el segundo bloque de código, pero en caso de que no se vea, $v=7.0877\\,cm^3$"
   ]
  },
  {
   "cell_type": "code",
   "execution_count": 14,
   "metadata": {},
   "outputs": [
    {
     "data": {
      "text/plain": [
       "<function matplotlib.pyplot.show(*args, **kw)>"
      ]
     },
     "execution_count": 14,
     "metadata": {},
     "output_type": "execute_result"
    },
    {
     "data": {
      "image/png": "[encoded data removed]",
      "text/plain": [
       "<Figure size 900x600 with 1 Axes>"
      ]
     },
     "metadata": {
      "needs_background": "light"
     },
     "output_type": "display_data"
    }
   ],
   "source": [
    "import matplotlib.pyplot as plt\n",
    "import matplotlib.image as mpimg\n",
    "import numpy as np\n",
    "import sympy as sp\n",
    "import mpl_toolkits.mplot3d.axes3d as axes3d\n",
    "plt.rcParams['figure.dpi'] = 150\n",
    "\n",
    "l_limit = 1\n",
    "u_limit = 3.5\n",
    "def f(x):\n",
    "    '''\n",
    "    Represents the piecewise function of the arrow\n",
    "    '''\n",
    "    if x<1:\n",
    "        return 0*x\n",
    "    if 1<=x<np.e:\n",
    "        return 1.32*np.log(x)\n",
    "    elif np.e<=x<3.5:\n",
    "        return 2*((x-3)**2)+1\n",
    "    else:\n",
    "        return 0*x\n",
    "\n",
    "#Im still not exactly sure about what vectorize does, but it kind of turns the function into a numpy array(?), but its necessary for numpy\n",
    "vf = np.vectorize(f)\n",
    "\n",
    "x = np.linspace(l_limit, u_limit, 100000)#creates an iterable with evenly spaced numbers over an interval, used for evaluation\n",
    "\n",
    "#Plotting and format\n",
    "fig2 = plt.figure()\n",
    "ax2 = fig2.add_subplot(111)\n",
    "ax2.set_title(\"Función\")\n",
    "ax2.plot(x,vf(x), color = \"#30ff34\", linewidth = \"3\")\n",
    "ax2.set_xlabel(\"Alto (cm)\")\n",
    "ax2.set_ylabel(\"Ancho (cm)\")\n",
    "ax2.set_ylim(0,3)\n",
    "ax2.set_xlim(l_limit - 1,u_limit + 1)\n",
    "plt.show"
   ]
  },
  {
   "cell_type": "code",
   "execution_count": 16,
   "metadata": {},
   "outputs": [
    {
     "name": "stdout",
     "output_type": "stream",
     "text": [
      "The capacity of the biggest cylinder, with a radius of 1.5cm is 24.7384cm^3\n",
      "The capacity of the smallest cylinder, with a radius of 0.0cm is 0.0cm^3\n",
      "The volume of the arrow is of 7.0877cm^3\n"
     ]
    }
   ],
   "source": [
    "integral=0 #variable for the sum, represents the integral\n",
    "partitionSize = 100000 #Partition size for integrating, preferably matches the step used in x.linspaces(start,stop,step)\n",
    "hmax = u_limit #height of the bottle\n",
    "hmin = l_limit #base of the bottle\n",
    "partition = (hmax-hmin)/partitionSize #defines the partition to be used\n",
    "\n",
    "for i in vf(x):\n",
    "    '''\n",
    "    equivalent to the left riemann sum of the function, i guess, as i is equal to the function evaluated\n",
    "    from 0 to 17 with the chosen step\n",
    "    '''\n",
    "    integral += (i**2)*partition\n",
    "\n",
    "modelCapacity = ((integral)*np.pi) #Gives the total capacity of the container, in g; nested only so it is understood better\n",
    "\n",
    "maxCylinderCapacity = ((np.pi*np.amax(vf(x))**2)*hmax) #Capacity of the largest cylinder, nested so it is better understood\n",
    "\n",
    "minCylinderCapacity = ((np.pi*np.amin(vf(x))**2)*hmax)\n",
    "\n",
    "print(\"The volume of the biggest cylinder, with a radius of \" + str(round(np.amax(vf(x)),4)) + \"cm is \" + str(round(maxCylinderCapacity,4)) +\"cm^3\")\n",
    "print(\"The volume of the smallest cylinder, with a radius of \" + str(round(np.amin(vf(x)),4)) + \"cm is \" + str(round(minCylinderCapacity,4)) +\"cm^3\")\n",
    "print(\"The volume of the arrow is of \" + str(round(modelCapacity,4)) + \"cm^3\")"
   ]
  },
  {
   "cell_type": "markdown",
   "metadata": {},
   "source": [
    "Igual, utilizando el siguiente código, se puede hacer un modelo en blender\n",
    "```python\n",
    "import bpy\n",
    "import numpy as np\n",
    "\n",
    "l_limit = 1\n",
    "u_limit = 3.5\n",
    "def f(x):\n",
    "    '''\n",
    "    Represents the piecewise function of the arrow\n",
    "    '''\n",
    "    if x<1:\n",
    "        return 0*x\n",
    "    if 1<=x<np.e:\n",
    "        return 1.32*np.log(x)\n",
    "    elif np.e<=x<3.5:\n",
    "        return 2*((x-3)**2)+1\n",
    "    else:\n",
    "        return 0*x\n",
    "\n",
    "#Im still not exactly sure about what vectorize does, but it kind of turns the function into a numpy array(?), but its necessary for numpy\n",
    "vf = np.vectorize(f)\n",
    "\n",
    "#define the ranges of numbers to use\n",
    "ll, ul = l_limit,u_limit\n",
    "w = np.linspace(ll,ul,100)\n",
    "#print(w)\n",
    "y = np.linspace(0, 2*np.pi,100)\n",
    "#print(y)\n",
    "#print(\"\\n\\n\")\n",
    "\n",
    "#manual mesh creation\n",
    "X=np.outer(vf(w), np.sin(y))\n",
    "Y=np.outer(vf(w), np.cos(y))\n",
    "Z=np.zeros_like(X)\n",
    "\n",
    "#z axis meesh\n",
    "for i in range(len(w)):\n",
    "    Z[i:i+1,:] = np.full_like(Z[0,:], w[i])\n",
    "\n",
    "# This code creates arrays of tuples based on the mesh to be used with the blender api to do the 3d model\n",
    "pointArray = []\n",
    "facesArray = []\n",
    "\n",
    "for i in range(len(w)):\n",
    "    for j in range(len(w)):\n",
    "        pointArray += (X[i][j], Y[i][j], Z[i][j]),\n",
    "\n",
    "for i in range(len(w)-1):\n",
    "    for j in range(len(w)-1):\n",
    "        facesArray += ((i*100)+j, (i*100)+j+1, (i*100)+101+j,  (i*100)+100+j),\n",
    "\n",
    "faces = facesArray\n",
    "vertices = pointArray\n",
    "edges = []\n",
    "\n",
    "# make mesh\n",
    "new_mesh = bpy.data.meshes.new('new_mesh')\n",
    "new_mesh.from_pydata(vertices, edges, faces)\n",
    "new_mesh.update()\n",
    "\n",
    "# make object from mesh\n",
    "new_object = bpy.data.objects.new('new_object', new_mesh)\n",
    "\n",
    "# make collection\n",
    "new_collection = bpy.data.collections.new('new_collection')\n",
    "bpy.context.scene.collection.children.link(new_collection)\n",
    "\n",
    "# add object to scene collection\n",
    "new_collection.objects.link(new_object)\n",
    "```"
   ]
  },
  {
   "cell_type": "code",
   "execution_count": null,
   "metadata": {},
   "outputs": [],
   "source": []
  }
 ],
 "metadata": {
  "kernelspec": {
   "display_name": "Python 3",
   "language": "python",
   "name": "python3"
  },
  "language_info": {
   "codemirror_mode": {
    "name": "ipython",
    "version": 3
   },
   "file_extension": ".py",
   "mimetype": "text/x-python",
   "name": "python",
   "nbconvert_exporter": "python",
   "pygments_lexer": "ipython3",
   "version": "3.8.3"
  }
 },
 "nbformat": 4,
 "nbformat_minor": 4
}
